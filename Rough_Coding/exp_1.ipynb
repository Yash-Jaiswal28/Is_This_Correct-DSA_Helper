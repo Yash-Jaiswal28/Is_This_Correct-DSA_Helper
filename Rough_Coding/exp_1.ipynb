{
 "cells": [
  {
   "cell_type": "code",
   "execution_count": 18,
   "metadata": {},
   "outputs": [],
   "source": [
    "import os\n",
    "\n",
    "NEO4J_URI= os.getenv(\"NEO4J_URI\")\n",
    "NEO4J_USER= os.getenv(\"NEO4J_USER\")\n",
    "NEO4J_PASSWORD= os.getenv(\"NEO4J_PASSWORD\")\n",
    "groq_api = os.getenv(\"groq_api_key\")\n"
   ]
  },
  {
   "cell_type": "code",
   "execution_count": 19,
   "metadata": {},
   "outputs": [],
   "source": [
    "from langchain_community.graphs import Neo4jGraph\n",
    "\n",
    "graph = Neo4jGraph(\n",
    "    url=NEO4J_URI,\n",
    "    username=NEO4J_USER,\n",
    "    password=NEO4J_PASSWORD\n",
    ")"
   ]
  },
  {
   "cell_type": "code",
   "execution_count": 20,
   "metadata": {},
   "outputs": [
    {
     "data": {
      "text/plain": [
       "<langchain_community.graphs.neo4j_graph.Neo4jGraph at 0x274fd62fd70>"
      ]
     },
     "execution_count": 20,
     "metadata": {},
     "output_type": "execute_result"
    }
   ],
   "source": [
    "graph"
   ]
  },
  {
   "cell_type": "code",
   "execution_count": 48,
   "metadata": {},
   "outputs": [
    {
     "data": {
      "text/plain": [
       "ChatGroq(client=<groq.resources.chat.completions.Completions object at 0x00000274FD8F6A50>, async_client=<groq.resources.chat.completions.AsyncCompletions object at 0x00000274FD8F73E0>, model_name='llama3-groq-70b-8192-tool-use-preview', model_kwargs={}, groq_api_key=SecretStr('**********'))"
      ]
     },
     "execution_count": 48,
     "metadata": {},
     "output_type": "execute_result"
    }
   ],
   "source": [
    "from langchain_groq import ChatGroq\n",
    "\n",
    "llm = ChatGroq(groq_api_key=groq_api, model_name=\"llama3-groq-70b-8192-tool-use-preview\")\n",
    "\n",
    "llm"
   ]
  },
  {
   "cell_type": "code",
   "execution_count": 22,
   "metadata": {},
   "outputs": [
    {
     "data": {
      "text/plain": [
       "'The capital of India is New Delhi.'"
      ]
     },
     "execution_count": 22,
     "metadata": {},
     "output_type": "execute_result"
    }
   ],
   "source": [
    "llm.invoke(\"Capital of India\").content"
   ]
  },
  {
   "cell_type": "markdown",
   "metadata": {},
   "source": [
    "Code Extraction from link"
   ]
  },
  {
   "cell_type": "code",
   "execution_count": 23,
   "metadata": {},
   "outputs": [],
   "source": [
    "import requests\n",
    "from bs4 import BeautifulSoup\n",
    "import numpy as np"
   ]
  },
  {
   "cell_type": "code",
   "execution_count": 32,
   "metadata": {},
   "outputs": [],
   "source": [
    "code=\"\"\"\n",
    "def f(s):\n",
    "    o = s.count('1')\n",
    "    z = s.count('0')\n",
    "    for i in range(len(s)):\n",
    "      if s[i] == '1' and z > 0:\n",
    "        z -= 1\n",
    "      elif s[i] == '0' and o > 0:\n",
    "        o -= 1\n",
    "      else:\n",
    "        return len(s) - i\n",
    "    return 0\n",
    "for t in range(int(input())):\n",
    "  print(f(input()))\n",
    "  \"\"\""
   ]
  },
  {
   "cell_type": "code",
   "execution_count": 64,
   "metadata": {},
   "outputs": [],
   "source": [
    "inc_code=\"\"\"\n",
    "def f(s):\n",
    "    o = s.count('1')\n",
    "    z = s.count('0')\n",
    "    for i in range(len(s)):\n",
    "      if s[i] == '1' and z > 0:\n",
    "        z -= 2\n",
    "      elif s[i] == '0' and o > 0:\n",
    "        o -= 2\n",
    "      else:\n",
    "        return len(s) - i\n",
    "    return 0\n",
    "for t in range(int(input())):\n",
    "  print(f(input()))\n",
    "  \"\"\""
   ]
  },
  {
   "cell_type": "code",
   "execution_count": 33,
   "metadata": {},
   "outputs": [],
   "source": [
    "list_of_algorithms=\"\"\"\n",
    "    GCD, LCM, Prime Factorization, Fibonnaci Numbers, Modular Arithmietic, Sieve Operations, String Algorithm, Recursion, Backtracking, Divide and Conquer, Sorting, Linear Search, Binary Search, Breadth First Search, Depth First Search, Greedy, Dynamic Programming,Two Pointer, Sliding Window\n",
    "\"\"\""
   ]
  },
  {
   "cell_type": "code",
   "execution_count": 57,
   "metadata": {},
   "outputs": [
    {
     "name": "stdout",
     "output_type": "stream",
     "text": [
      "String Algorithm, Linear Search\n"
     ]
    }
   ],
   "source": [
    "print(llm.invoke(\n",
    "    f\"\"\"\n",
    "    You are a coding expert. Your task is to identify and list all the algorithms used in the following Python code.\n",
    "    Preferably, use the names of the algorithms from the provided list. If an algorithm is not found in the list, you may use your own knowledge to name it.\n",
    "    Provide as many relevant algorithm names as you can identify.\n",
    "    \n",
    "    Allowed Algorithm Names:\n",
    "    {list_of_algorithms}\n",
    "    \n",
    "    Python Code:\n",
    "    {code}\n",
    "    \n",
    "    Output:\n",
    "    // List all identified algorithm names from the code, without providing any explanations.\n",
    "    \n",
    "    Example:\n",
    "    Allowed Algorithm Names:\n",
    "    [\"Binary Search\", \"Merge Sort\", \"Depth-First Search\", \"Breadth-First Search\"]\n",
    "    \n",
    "    Python Code:\n",
    "    def binary_search(arr, target):\n",
    "        left, right = 0, len(arr) - 1\n",
    "        while left <= right:\n",
    "            mid = (left + right) // 2\n",
    "            if arr[mid] == target:\n",
    "                return mid\n",
    "            elif arr[mid] < target:\n",
    "                left = mid + 1\n",
    "            else:\n",
    "                right = mid - 1\n",
    "        return -1\n",
    "    \n",
    "    Output:\n",
    "    Binary Search\n",
    "    \"\"\"\n",
    ").content)\n"
   ]
  },
  {
   "cell_type": "code",
   "execution_count": 63,
   "metadata": {},
   "outputs": [],
   "source": [
    "edito =(llm.invoke(\n",
    "    f\"\"\"\n",
    "    You are a coding expert. Your task is to provide a brief explanation of the functionality of the following Python code.\n",
    "    The explanation should focus on the logic and the overall flow, independent of the specific variable names, function names, or other identifiers used in the code.\n",
    "    \n",
    "    Python Code:\n",
    "    {code}\n",
    "    \n",
    "    Output:\n",
    "    // Provide a concise explanation of what the code does, without referring to specific names or identifiers.\n",
    "    \n",
    "    Example:\n",
    "    Python Code:\n",
    "    def find_sum(arr):\n",
    "        result = 0\n",
    "        for num in arr:\n",
    "            result += num\n",
    "        return result\n",
    "    \n",
    "    Output:\n",
    "    // The code calculates the total sum of all elements in a given list.\n",
    "    \"\"\"\n",
    ").content\n",
    ")"
   ]
  },
  {
   "cell_type": "code",
   "execution_count": 69,
   "metadata": {},
   "outputs": [
    {
     "name": "stdout",
     "output_type": "stream",
     "text": [
      "def f(s):\n",
      "    o = s.count('1')\n",
      "    z = s.count('0')\n",
      "    for i in range(len(s)):\n",
      "      if s[i] == '1' and z > 0:\n",
      "        z -= 1\n",
      "      elif s[i] == '0' and o > 0:\n",
      "        o -= 1\n",
      "      else:\n",
      "        return len(s) - i\n",
      "    return 0\n",
      "for t in range(int(input())):\n",
      "  print(f(input()))\n",
      " \n"
     ]
    }
   ],
   "source": [
    "print(llm.invoke(\n",
    "    f\"\"\"\n",
    "    You are a coding expert. Your task is to modify the following incorrect Python code based on the provided correct code and editorial. \n",
    "    You should not change the names of variables, functions, or any other identifiers in the user's incorrect code while preserving the underlying logic of the correct code.\n",
    "    And give only modified code without any explanation.\n",
    "    User Incorrect Code:\n",
    "    {inc_code}\n",
    "\n",
    "    Correct Code with Similar Logic:\n",
    "    {code}\n",
    "\n",
    "    Correct Code Editorial:\n",
    "    {edito}\n",
    "\n",
    "    Output:\n",
    "    // Provide the modified version of the incorrect code, ensuring the logic remains the same but with user's identifiers naming.\n",
    "    \"\"\"\n",
    ").content)\n"
   ]
  },
  {
   "cell_type": "code",
   "execution_count": null,
   "metadata": {},
   "outputs": [],
   "source": []
  }
 ],
 "metadata": {
  "kernelspec": {
   "display_name": "Graph",
   "language": "python",
   "name": "python3"
  },
  "language_info": {
   "codemirror_mode": {
    "name": "ipython",
    "version": 3
   },
   "file_extension": ".py",
   "mimetype": "text/x-python",
   "name": "python",
   "nbconvert_exporter": "python",
   "pygments_lexer": "ipython3",
   "version": "3.12.7"
  }
 },
 "nbformat": 4,
 "nbformat_minor": 2
}
